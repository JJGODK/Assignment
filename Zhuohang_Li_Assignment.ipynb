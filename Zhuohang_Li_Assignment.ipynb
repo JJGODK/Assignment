{
 "cells": [
  {
   "cell_type": "markdown",
   "id": "91cfa24c-d547-4dad-be91-f4fc12a2e64c",
   "metadata": {},
   "source": [
    "<H1>My Jupyter Notebook on IBM Watson Studio"
   ]
  },
  {
   "cell_type": "markdown",
   "id": "a3ebfc11-4c68-4451-88eb-02c616c7ea4d",
   "metadata": {},
   "source": [
    " **Zhuohang Li** <br>Data Scientist"
   ]
  },
  {
   "cell_type": "markdown",
   "id": "dc387988-9781-415c-acf7-ba5cb63091e5",
   "metadata": {},
   "source": [
    "*I am interested in Data Science because I am currently a Mathematics and Statistics student where Data Analysis really caught my eye. I find that finding connections and come to result based on different set of Data is really interesting.*"
   ]
  },
  {
   "cell_type": "markdown",
   "id": "ed3869f3-2b78-4357-9619-80d0424475f7",
   "metadata": {},
   "source": [
    "<H3> The Following Code will Display Hello World and do a calculation of 1000 - 500"
   ]
  },
  {
   "cell_type": "code",
   "execution_count": 4,
   "id": "2cc4a53b-1adb-4f86-9996-c3d2a5c4bf47",
   "metadata": {},
   "outputs": [
    {
     "name": "stdout",
     "output_type": "stream",
     "text": [
      "Hello World\n",
      "1000 - 500 = 500\n"
     ]
    }
   ],
   "source": [
    "print(\"Hello World\")\n",
    "x=1000\n",
    "y=500\n",
    "z=x-y\n",
    "print(x , \"-\" , y , \"=\" , z)"
   ]
  },
  {
   "cell_type": "markdown",
   "id": "0a185226-57d8-4be0-871d-b83122876cd3",
   "metadata": {},
   "source": [
    "A | Way | To\n",
    "--- | --- | ---\n",
    "*Settle* | `this` | **Assignment**\n",
    "thank | you | ^_^"
   ]
  },
  {
   "cell_type": "code",
   "execution_count": null,
   "id": "e5254a9f-066b-4e14-b3d1-881f36527d4c",
   "metadata": {},
   "outputs": [],
   "source": []
  }
 ],
 "metadata": {
  "kernelspec": {
   "display_name": "Python",
   "language": "python",
   "name": "conda-env-python-py"
  },
  "language_info": {
   "codemirror_mode": {
    "name": "ipython",
    "version": 3
   },
   "file_extension": ".py",
   "mimetype": "text/x-python",
   "name": "python",
   "nbconvert_exporter": "python",
   "pygments_lexer": "ipython3",
   "version": "3.7.12"
  }
 },
 "nbformat": 4,
 "nbformat_minor": 5
}
